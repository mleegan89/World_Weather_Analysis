{
 "cells": [
  {
   "cell_type": "code",
   "execution_count": 1,
   "id": "8881c825",
   "metadata": {},
   "outputs": [],
   "source": [
    "#Import the random module\n",
    "import random"
   ]
  },
  {
   "cell_type": "code",
   "execution_count": 2,
   "id": "c51ee288",
   "metadata": {},
   "outputs": [
    {
     "data": {
      "text/plain": [
       "-23"
      ]
     },
     "execution_count": 2,
     "metadata": {},
     "output_type": "execute_result"
    }
   ],
   "source": [
    "random.randint(-90,90)"
   ]
  },
  {
   "cell_type": "code",
   "execution_count": 3,
   "id": "b00388c9",
   "metadata": {},
   "outputs": [
    {
     "data": {
      "text/plain": [
       "0.708287578575858"
      ]
     },
     "execution_count": 3,
     "metadata": {},
     "output_type": "execute_result"
    }
   ],
   "source": [
    "random.random()"
   ]
  },
  {
   "cell_type": "code",
   "execution_count": 4,
   "id": "349d92eb",
   "metadata": {},
   "outputs": [
    {
     "data": {
      "text/plain": [
       "75.46784824152978"
      ]
     },
     "execution_count": 4,
     "metadata": {},
     "output_type": "execute_result"
    }
   ],
   "source": [
    "random_number = random.randint(-90,90) + random.random()\n",
    "random_number"
   ]
  },
  {
   "cell_type": "code",
   "execution_count": 8,
   "id": "7cc902ca",
   "metadata": {},
   "outputs": [
    {
     "data": {
      "text/plain": [
       "42"
      ]
     },
     "execution_count": 8,
     "metadata": {},
     "output_type": "execute_result"
    }
   ],
   "source": [
    "random.randrange(-90,90,step=3)"
   ]
  },
  {
   "cell_type": "code",
   "execution_count": 9,
   "id": "a4d14870",
   "metadata": {},
   "outputs": [
    {
     "data": {
      "text/plain": [
       "-33.39818486459648"
      ]
     },
     "execution_count": 9,
     "metadata": {},
     "output_type": "execute_result"
    }
   ],
   "source": [
    "random.uniform(-90,90)"
   ]
  },
  {
   "cell_type": "code",
   "execution_count": 10,
   "id": "eaf55a3c",
   "metadata": {},
   "outputs": [],
   "source": [
    "#import the numpy module\n",
    "import numpy as np"
   ]
  },
  {
   "cell_type": "code",
   "execution_count": 11,
   "id": "9cbe891c",
   "metadata": {},
   "outputs": [
    {
     "data": {
      "text/plain": [
       "-72.63358752354759"
      ]
     },
     "execution_count": 11,
     "metadata": {},
     "output_type": "execute_result"
    }
   ],
   "source": [
    "np.random.uniform(-90.000,90.000)"
   ]
  },
  {
   "cell_type": "code",
   "execution_count": 12,
   "id": "81543c9a",
   "metadata": {},
   "outputs": [
    {
     "data": {
      "text/plain": [
       "array([ 81.58423544,  73.20354967,  48.53534743,  19.64728002,\n",
       "        -3.29254149, -19.06963887, -38.29127202, -59.93181042,\n",
       "       -67.51234347, -78.09392838, -33.02843443, -57.04973096,\n",
       "        57.27468637,   2.93528078, -14.25544155, -56.95964203,\n",
       "        11.96534866,  64.33627242,  88.36726511,  77.09041982,\n",
       "        81.05921306, -20.3282175 , -78.23248571,  85.97003801,\n",
       "       -82.02506626, -57.06441383, -18.89230045,  21.18360081,\n",
       "       -30.55027937,  67.98153091,  72.0162031 ,  27.73682902,\n",
       "       -36.91266783, -68.84340807,  45.02478551, -78.0797184 ,\n",
       "        -7.20795183,  83.89963196, -47.96145144, -50.91835596,\n",
       "        87.19983713, -70.48040638, -19.94242538, -10.77545077,\n",
       "       -72.12383089,  85.27927631,  15.42000829, -70.38494794,\n",
       "       -12.37702385, -30.96877732])"
      ]
     },
     "execution_count": 12,
     "metadata": {},
     "output_type": "execute_result"
    }
   ],
   "source": [
    "np.random.uniform(-90.000,90.000, size=50)"
   ]
  },
  {
   "cell_type": "code",
   "execution_count": 16,
   "id": "37bcfa43",
   "metadata": {},
   "outputs": [],
   "source": [
    "#import timeit\n",
    "import timeit"
   ]
  },
  {
   "cell_type": "code",
   "execution_count": 17,
   "id": "6e261bef",
   "metadata": {},
   "outputs": [
    {
     "name": "stdout",
     "output_type": "stream",
     "text": [
      "13.3 µs ± 163 ns per loop (mean ± std. dev. of 7 runs, 100000 loops each)\n"
     ]
    }
   ],
   "source": [
    "%timeit np.random.uniform(-90.000,90.000, size=1500)"
   ]
  },
  {
   "cell_type": "code",
   "execution_count": 18,
   "id": "077f290b",
   "metadata": {},
   "outputs": [
    {
     "name": "stdout",
     "output_type": "stream",
     "text": [
      "13.2 µs ± 305 ns per loop (mean ± std. dev. of 7 runs, 100000 loops each)\n"
     ]
    }
   ],
   "source": [
    "%timeit np.random.uniform(-90.000, 90.000, size=1500)"
   ]
  },
  {
   "cell_type": "code",
   "execution_count": 19,
   "id": "05f3781f",
   "metadata": {},
   "outputs": [
    {
     "name": "stdout",
     "output_type": "stream",
     "text": [
      "1.53 ms ± 10.8 µs per loop (mean ± std. dev. of 7 runs, 1000 loops each)\n"
     ]
    }
   ],
   "source": [
    "def latitudes(size):\n",
    "    latitudes = []\n",
    "    x = 0\n",
    "    while x < (size):\n",
    "        random_lat = random.randint(-90, 90) + random.random()\n",
    "        latitudes.append(random_lat)\n",
    "        x += 1\n",
    "    return latitudes\n",
    "# Call the function with 1500.\n",
    "%timeit latitudes(1500)"
   ]
  },
  {
   "cell_type": "code",
   "execution_count": null,
   "id": "0ec28146",
   "metadata": {},
   "outputs": [],
   "source": []
  }
 ],
 "metadata": {
  "kernelspec": {
   "display_name": "Python 3 (ipykernel)",
   "language": "python",
   "name": "python3"
  },
  "language_info": {
   "codemirror_mode": {
    "name": "ipython",
    "version": 3
   },
   "file_extension": ".py",
   "mimetype": "text/x-python",
   "name": "python",
   "nbconvert_exporter": "python",
   "pygments_lexer": "ipython3",
   "version": "3.7.11"
  }
 },
 "nbformat": 4,
 "nbformat_minor": 5
}
